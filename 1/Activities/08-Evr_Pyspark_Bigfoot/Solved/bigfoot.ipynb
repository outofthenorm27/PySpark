{
 "cells": [
  {
   "cell_type": "code",
   "execution_count": null,
   "metadata": {
    "colab": {},
    "colab_type": "code",
    "id": "odBn6F_lGN_8"
   },
   "outputs": [],
   "source": [
    "import os\n",
    "# Find the latest version of spark 3.0  from http://www.apache.org/dist/spark/ and enter as the spark version\n",
    "# For example:\n",
    "# spark_version = 'spark-3.0.3'\n",
    "spark_version = 'spark-3.0.3'\n",
    "os.environ['SPARK_VERSION']=spark_version\n",
    "\n",
    "# Install Spark and Java\n",
    "!apt-get update\n",
    "!apt-get install openjdk-11-jdk-headless -qq > /dev/null\n",
    "!wget -q http://www.apache.org/dist/spark/$SPARK_VERSION/$SPARK_VERSION-bin-hadoop2.7.tgz\n",
    "!tar xf $SPARK_VERSION-bin-hadoop2.7.tgz\n",
    "!pip install -q findspark\n",
    "\n",
    "# Set Environment Variables\n",
    "os.environ[\"JAVA_HOME\"] = \"/usr/lib/jvm/java-11-openjdk-amd64\"\n",
    "os.environ[\"SPARK_HOME\"] = f\"/content/{spark_version}-bin-hadoop2.7\"\n",
    "\n",
    "# Start a SparkSession\n",
    "import findspark\n",
    "findspark.init()"
   ]
  },
  {
   "cell_type": "code",
   "execution_count": null,
   "metadata": {
    "colab": {},
    "colab_type": "code",
    "id": "1GIpxtoMXUDC"
   },
   "outputs": [],
   "source": [
    "# Start Spark session\n",
    "from pyspark.sql import SparkSession\n",
    "spark = SparkSession.builder.appName(\"bigfoot\").getOrCreate()"
   ]
  },
  {
   "cell_type": "code",
   "execution_count": 3,
   "metadata": {
    "colab": {
     "base_uri": "https://localhost:8080/",
     "height": 469
    },
    "colab_type": "code",
    "id": "5yT4wANyFtR6",
    "outputId": "e60c9456-b479-4655-ca17-2e234fe33e3f"
   },
   "outputs": [
    {
     "name": "stdout",
     "output_type": "stream",
     "text": [
      "+------+--------------------+--------------+--------------------+--------+---------+\n",
      "|number|               title|classification|           timestamp|latitude|longitude|\n",
      "+------+--------------------+--------------+--------------------+--------+---------+\n",
      "|   637|Report 637: Campe...|       Class A|2000-06-16T12:00:00Z|    61.5|   -142.9|\n",
      "|  2917|Report 2917: Fami...|       Class A|1995-05-15T12:00:00Z| 55.1872|-132.7982|\n",
      "|  7963|Report 7963: Sasq...|       Class A|2004-02-09T12:00:00Z| 55.2035|-132.8202|\n",
      "|  9317|Report 9317: Driv...|       Class A|2004-06-18T12:00:00Z| 62.9375|-141.5667|\n",
      "| 13038|Report 13038: Sno...|       Class A|2004-02-15T12:00:00Z| 61.0595|-149.7853|\n",
      "| 23666|Report 23666: Pas...|       Class A|2008-04-23T12:00:00Z|62.77335|-141.3165|\n",
      "| 26604|Report 26604: Day...|       Class A|2009-07-15T12:00:00Z|64.89139|-147.8142|\n",
      "|   179|Report 179: Man a...|       Class A|1981-09-15T12:00:00Z|32.31435|-85.16235|\n",
      "|   245|Report 245: Two o...|       Class A|1999-07-15T12:00:00Z|33.28375|-87.32655|\n",
      "|   416|Report 416: A res...|       Class A|1983-11-15T12:00:00Z|34.95605| -86.4559|\n",
      "|   435|Report 435: Dayli...|       Class A|2000-10-10T12:00:00Z| 34.5422|-86.66465|\n",
      "|   451|Report 451: Young...|       Class A|1993-08-20T12:00:00Z| 34.9263|-87.02025|\n",
      "|   577|Report 577: Man h...|       Class A|1999-11-15T12:00:00Z|34.80405|-87.50905|\n",
      "|   799|Report 799: Perso...|       Class A|1978-04-15T12:00:00Z|34.92855| -87.1105|\n",
      "|   832|Report 832: Witne...|       Class A|1980-11-15T12:00:00Z|33.13195|-88.17885|\n",
      "|   961|Report 961: Motor...|       Class A|1997-01-06T12:00:00Z| 31.4515|-88.08305|\n",
      "|  1022|Report 1022: Hunt...|       Class A|1990-09-15T12:00:00Z|33.97575|-87.45876|\n",
      "|  1907|Report 1907: Moto...|       Class A|1996-12-05T12:00:00Z|31.58255|-87.96095|\n",
      "|  3028|Report 3028: Dayl...|       Class A|2000-06-01T12:00:00Z| 34.4881| -86.6333|\n",
      "|  3296|Report 3296: Man ...|       Class A|2001-10-15T12:00:00Z| 34.6802|-87.00665|\n",
      "+------+--------------------+--------------+--------------------+--------+---------+\n",
      "only showing top 20 rows\n",
      "\n"
     ]
    }
   ],
   "source": [
    "# Read in data from S3 Buckets\n",
    "from pyspark import SparkFiles\n",
    "url =\"https://2u-data-curriculum-team.s3.amazonaws.com/dataviz-classroom/v1.1/22-big-data/bigfoot.csv\"\n",
    "spark.sparkContext.addFile(url)\n",
    "df = spark.read.csv(SparkFiles.get(\"bigfoot.csv\"), header=True, inferSchema=True, timestampFormat=\"yyyy/MM/dd HH:mm:ss\")\n",
    "\n",
    "# Show DataFrame\n",
    "df.show()"
   ]
  },
  {
   "cell_type": "code",
   "execution_count": null,
   "metadata": {
    "colab": {},
    "colab_type": "code",
    "id": "zP-O7x64FtSC"
   },
   "outputs": [],
   "source": [
    "# Import date time functions\n",
    "from pyspark.sql.functions import month, year"
   ]
  },
  {
   "cell_type": "code",
   "execution_count": 5,
   "metadata": {
    "colab": {
     "base_uri": "https://localhost:8080/",
     "height": 469
    },
    "colab_type": "code",
    "id": "76lFAjMQFtSH",
    "outputId": "3190dd47-42f5-49bf-9027-0396d4aa7569",
    "scrolled": true
   },
   "outputs": [
    {
     "name": "stdout",
     "output_type": "stream",
     "text": [
      "+---------------+\n",
      "|year(timestamp)|\n",
      "+---------------+\n",
      "|           2000|\n",
      "|           1995|\n",
      "|           2004|\n",
      "|           2004|\n",
      "|           2004|\n",
      "|           2008|\n",
      "|           2009|\n",
      "|           1981|\n",
      "|           1999|\n",
      "|           1983|\n",
      "|           2000|\n",
      "|           1993|\n",
      "|           1999|\n",
      "|           1978|\n",
      "|           1980|\n",
      "|           1997|\n",
      "|           1990|\n",
      "|           1996|\n",
      "|           2000|\n",
      "|           2001|\n",
      "+---------------+\n",
      "only showing top 20 rows\n",
      "\n"
     ]
    }
   ],
   "source": [
    "# Create a new DataFrame with the column Year\n",
    "df.select(year(df[\"timestamp\"])).show()"
   ]
  },
  {
   "cell_type": "code",
   "execution_count": 6,
   "metadata": {
    "colab": {
     "base_uri": "https://localhost:8080/",
     "height": 469
    },
    "colab_type": "code",
    "id": "wpJF31VGFtSL",
    "outputId": "6a141a47-54d4-4d94-83cb-259bfefb48ef"
   },
   "outputs": [
    {
     "name": "stdout",
     "output_type": "stream",
     "text": [
      "+------+--------------------+--------------+--------------------+--------+---------+----+\n",
      "|number|               title|classification|           timestamp|latitude|longitude|year|\n",
      "+------+--------------------+--------------+--------------------+--------+---------+----+\n",
      "|   637|Report 637: Campe...|       Class A|2000-06-16T12:00:00Z|    61.5|   -142.9|2000|\n",
      "|  2917|Report 2917: Fami...|       Class A|1995-05-15T12:00:00Z| 55.1872|-132.7982|1995|\n",
      "|  7963|Report 7963: Sasq...|       Class A|2004-02-09T12:00:00Z| 55.2035|-132.8202|2004|\n",
      "|  9317|Report 9317: Driv...|       Class A|2004-06-18T12:00:00Z| 62.9375|-141.5667|2004|\n",
      "| 13038|Report 13038: Sno...|       Class A|2004-02-15T12:00:00Z| 61.0595|-149.7853|2004|\n",
      "| 23666|Report 23666: Pas...|       Class A|2008-04-23T12:00:00Z|62.77335|-141.3165|2008|\n",
      "| 26604|Report 26604: Day...|       Class A|2009-07-15T12:00:00Z|64.89139|-147.8142|2009|\n",
      "|   179|Report 179: Man a...|       Class A|1981-09-15T12:00:00Z|32.31435|-85.16235|1981|\n",
      "|   245|Report 245: Two o...|       Class A|1999-07-15T12:00:00Z|33.28375|-87.32655|1999|\n",
      "|   416|Report 416: A res...|       Class A|1983-11-15T12:00:00Z|34.95605| -86.4559|1983|\n",
      "|   435|Report 435: Dayli...|       Class A|2000-10-10T12:00:00Z| 34.5422|-86.66465|2000|\n",
      "|   451|Report 451: Young...|       Class A|1993-08-20T12:00:00Z| 34.9263|-87.02025|1993|\n",
      "|   577|Report 577: Man h...|       Class A|1999-11-15T12:00:00Z|34.80405|-87.50905|1999|\n",
      "|   799|Report 799: Perso...|       Class A|1978-04-15T12:00:00Z|34.92855| -87.1105|1978|\n",
      "|   832|Report 832: Witne...|       Class A|1980-11-15T12:00:00Z|33.13195|-88.17885|1980|\n",
      "|   961|Report 961: Motor...|       Class A|1997-01-06T12:00:00Z| 31.4515|-88.08305|1997|\n",
      "|  1022|Report 1022: Hunt...|       Class A|1990-09-15T12:00:00Z|33.97575|-87.45876|1990|\n",
      "|  1907|Report 1907: Moto...|       Class A|1996-12-05T12:00:00Z|31.58255|-87.96095|1996|\n",
      "|  3028|Report 3028: Dayl...|       Class A|2000-06-01T12:00:00Z| 34.4881| -86.6333|2000|\n",
      "|  3296|Report 3296: Man ...|       Class A|2001-10-15T12:00:00Z| 34.6802|-87.00665|2001|\n",
      "+------+--------------------+--------------+--------------------+--------+---------+----+\n",
      "only showing top 20 rows\n",
      "\n"
     ]
    }
   ],
   "source": [
    "# Save the year as a new column\n",
    "df = df.withColumn(\"year\", year(df['timestamp']))\n",
    "df.show()"
   ]
  },
  {
   "cell_type": "code",
   "execution_count": 7,
   "metadata": {
    "colab": {
     "base_uri": "https://localhost:8080/",
     "height": 469
    },
    "colab_type": "code",
    "id": "sBpcHcZcFtSQ",
    "outputId": "0b2ca7c9-d964-4d19-8513-40371baf3acb"
   },
   "outputs": [
    {
     "name": "stdout",
     "output_type": "stream",
     "text": [
      "+----+-----+\n",
      "|year|count|\n",
      "+----+-----+\n",
      "|null|    6|\n",
      "|1869|    1|\n",
      "|1921|    1|\n",
      "|1925|    1|\n",
      "|1930|    1|\n",
      "|1932|    1|\n",
      "|1934|    1|\n",
      "|1937|    1|\n",
      "|1938|    1|\n",
      "|1941|    1|\n",
      "|1942|    1|\n",
      "|1944|    2|\n",
      "|1947|    1|\n",
      "|1948|    1|\n",
      "|1949|    2|\n",
      "|1950|    3|\n",
      "|1952|    1|\n",
      "|1953|    2|\n",
      "|1954|    1|\n",
      "|1955|    3|\n",
      "+----+-----+\n",
      "only showing top 20 rows\n",
      "\n"
     ]
    }
   ],
   "source": [
    "# Find the total bigfoot sightings per year\n",
    "averages = df.groupBy(\"year\").count()\n",
    "averages.orderBy(\"year\").select(\"year\", \"count\").show()"
   ]
  },
  {
   "cell_type": "code",
   "execution_count": 8,
   "metadata": {
    "colab": {
     "base_uri": "https://localhost:8080/",
     "height": 206
    },
    "colab_type": "code",
    "id": "vGvRXR0dFtSU",
    "outputId": "ef71f7d8-3389-45be-c5ee-c6015c8bc3a7"
   },
   "outputs": [
    {
     "data": {
      "text/html": [
       "<div>\n",
       "<style scoped>\n",
       "    .dataframe tbody tr th:only-of-type {\n",
       "        vertical-align: middle;\n",
       "    }\n",
       "\n",
       "    .dataframe tbody tr th {\n",
       "        vertical-align: top;\n",
       "    }\n",
       "\n",
       "    .dataframe thead th {\n",
       "        text-align: right;\n",
       "    }\n",
       "</style>\n",
       "<table border=\"1\" class=\"dataframe\">\n",
       "  <thead>\n",
       "    <tr style=\"text-align: right;\">\n",
       "      <th></th>\n",
       "      <th>year</th>\n",
       "      <th>count</th>\n",
       "    </tr>\n",
       "  </thead>\n",
       "  <tbody>\n",
       "    <tr>\n",
       "      <th>0</th>\n",
       "      <td>NaN</td>\n",
       "      <td>6</td>\n",
       "    </tr>\n",
       "    <tr>\n",
       "      <th>1</th>\n",
       "      <td>1869.0</td>\n",
       "      <td>1</td>\n",
       "    </tr>\n",
       "    <tr>\n",
       "      <th>2</th>\n",
       "      <td>1921.0</td>\n",
       "      <td>1</td>\n",
       "    </tr>\n",
       "    <tr>\n",
       "      <th>3</th>\n",
       "      <td>1925.0</td>\n",
       "      <td>1</td>\n",
       "    </tr>\n",
       "    <tr>\n",
       "      <th>4</th>\n",
       "      <td>1930.0</td>\n",
       "      <td>1</td>\n",
       "    </tr>\n",
       "  </tbody>\n",
       "</table>\n",
       "</div>"
      ],
      "text/plain": [
       "     year  count\n",
       "0     NaN      6\n",
       "1  1869.0      1\n",
       "2  1921.0      1\n",
       "3  1925.0      1\n",
       "4  1930.0      1"
      ]
     },
     "execution_count": 8,
     "metadata": {
      "tags": []
     },
     "output_type": "execute_result"
    }
   ],
   "source": [
    "# Import the summarized data to a pandas DataFrame for plotting\n",
    "# Note: If your summarized data is still too big for your local memory then your notebook may crash\n",
    "import pandas as pd\n",
    "pandas_df = averages.orderBy(\"year\").select(\"year\", \"count\").toPandas()\n",
    "pandas_df.head()"
   ]
  },
  {
   "cell_type": "code",
   "execution_count": 9,
   "metadata": {
    "colab": {
     "base_uri": "https://localhost:8080/",
     "height": 206
    },
    "colab_type": "code",
    "id": "KZ9HqmjoFtSY",
    "outputId": "ad40caf4-bdaa-45c7-c4cb-df0939867013"
   },
   "outputs": [
    {
     "data": {
      "text/html": [
       "<div>\n",
       "<style scoped>\n",
       "    .dataframe tbody tr th:only-of-type {\n",
       "        vertical-align: middle;\n",
       "    }\n",
       "\n",
       "    .dataframe tbody tr th {\n",
       "        vertical-align: top;\n",
       "    }\n",
       "\n",
       "    .dataframe thead th {\n",
       "        text-align: right;\n",
       "    }\n",
       "</style>\n",
       "<table border=\"1\" class=\"dataframe\">\n",
       "  <thead>\n",
       "    <tr style=\"text-align: right;\">\n",
       "      <th></th>\n",
       "      <th>year</th>\n",
       "      <th>sightings</th>\n",
       "    </tr>\n",
       "  </thead>\n",
       "  <tbody>\n",
       "    <tr>\n",
       "      <th>1</th>\n",
       "      <td>1869.0</td>\n",
       "      <td>1</td>\n",
       "    </tr>\n",
       "    <tr>\n",
       "      <th>2</th>\n",
       "      <td>1921.0</td>\n",
       "      <td>1</td>\n",
       "    </tr>\n",
       "    <tr>\n",
       "      <th>3</th>\n",
       "      <td>1925.0</td>\n",
       "      <td>1</td>\n",
       "    </tr>\n",
       "    <tr>\n",
       "      <th>4</th>\n",
       "      <td>1930.0</td>\n",
       "      <td>1</td>\n",
       "    </tr>\n",
       "    <tr>\n",
       "      <th>5</th>\n",
       "      <td>1932.0</td>\n",
       "      <td>1</td>\n",
       "    </tr>\n",
       "  </tbody>\n",
       "</table>\n",
       "</div>"
      ],
      "text/plain": [
       "     year  sightings\n",
       "1  1869.0          1\n",
       "2  1921.0          1\n",
       "3  1925.0          1\n",
       "4  1930.0          1\n",
       "5  1932.0          1"
      ]
     },
     "execution_count": 9,
     "metadata": {
      "tags": []
     },
     "output_type": "execute_result"
    }
   ],
   "source": [
    "# Clean the data and rename the columns to \"year\" and \"sightings\"\n",
    "pandas_df = pandas_df.dropna()\n",
    "pandas_df = pandas_df.rename(columns={\"count\": \"sightings\"})\n",
    "pandas_df.head()"
   ]
  },
  {
   "cell_type": "code",
   "execution_count": 10,
   "metadata": {
    "colab": {
     "base_uri": "https://localhost:8080/",
     "height": 296
    },
    "colab_type": "code",
    "id": "kPAL5A9oFtSc",
    "outputId": "4c58f02a-7bd2-443c-b157-a720ffd643b3"
   },
   "outputs": [
    {
     "data": {
      "text/plain": [
       "<matplotlib.axes._subplots.AxesSubplot at 0x7fe84af6c400>"
      ]
     },
     "execution_count": 10,
     "metadata": {
      "tags": []
     },
     "output_type": "execute_result"
    },
    {
     "data": {
      "image/png": "[encoded data removed]",
      "text/plain": [
       "<Figure size 432x288 with 1 Axes>"
      ]
     },
     "metadata": {
      "tags": []
     },
     "output_type": "display_data"
    }
   ],
   "source": [
    "# Plot the year and sightings\n",
    "%matplotlib inline\n",
    "pandas_df.plot(\"year\", \"sightings\")"
   ]
  },
  {
   "cell_type": "code",
   "execution_count": null,
   "metadata": {
    "colab": {},
    "colab_type": "code",
    "id": "LsS-TQ5tGby5"
   },
   "outputs": [],
   "source": []
  }
 ],
 "metadata": {
  "anaconda-cloud": {},
  "colab": {
   "name": "bigfoot.ipynb",
   "provenance": []
  },
  "kernel_info": {
   "name": "python3"
  },
  "kernelspec": {
   "display_name": "Python 3",
   "language": "python",
   "name": "python3"
  },
  "language_info": {
   "codemirror_mode": {
    "name": "ipython",
    "version": 3
   },
   "file_extension": ".py",
   "mimetype": "text/x-python",
   "name": "python",
   "nbconvert_exporter": "python",
   "pygments_lexer": "ipython3",
   "version": "3.7.7"
  },
  "nteract": {
   "version": "0.11.2"
  },
  "varInspector": {
   "cols": {
    "lenName": 16,
    "lenType": 16,
    "lenVar": 40
   },
   "kernels_config": {
    "python": {
     "delete_cmd_postfix": "",
     "delete_cmd_prefix": "del ",
     "library": "var_list.py",
     "varRefreshCmd": "print(var_dic_list())"
    },
    "r": {
     "delete_cmd_postfix": ") ",
     "delete_cmd_prefix": "rm(",
     "library": "var_list.r",
     "varRefreshCmd": "cat(var_dic_list()) "
    }
   },
   "types_to_exclude": [
    "module",
    "function",
    "builtin_function_or_method",
    "instance",
    "_Feature"
   ],
   "window_display": false
  }
 },
 "nbformat": 4,
 "nbformat_minor": 4
}
